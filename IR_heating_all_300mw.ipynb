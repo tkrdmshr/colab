{
 "cells": [
  {
   "cell_type": "code",
   "execution_count": 1,
   "metadata": {},
   "outputs": [],
   "source": [
    "import pandas as pd\n",
    "import glob\n",
    "from draw_graph import Scatter"
   ]
  },
  {
   "cell_type": "code",
   "execution_count": 2,
   "metadata": {},
   "outputs": [],
   "source": [
    "text_excel = glob.glob('/Users/masaharu/Desktop/python_program_from_190111/data/190115/*.xlsx')\n",
    "excel_data = pd.read_excel(text_excel[0]).reset_index()\n",
    "all_area = excel_data['area']\n",
    "center_area = excel_data['center']"
   ]
  },
  {
   "cell_type": "code",
   "execution_count": 3,
   "metadata": {},
   "outputs": [],
   "source": [
    "#RNase_300mwの結果\n",
    "text_csv = glob.glob('/Users/masaharu/Desktop/python_program_from_190111/data/190115/*.csv')\n",
    "text_300mw = [text for text in text_csv if '300mw' in text]\n",
    "text_300mw.sort()\n",
    "count = 0\n",
    "RNase_results = []\n",
    "for csv in text_300mw:\n",
    "    if 'all' in csv:\n",
    "        data = pd.read_csv(csv, header = None)\n",
    "        time = data[0][1:].astype(float)\n",
    "        value_all = data[1][1:].astype(float)*all_area[count]\n",
    "    elif 'center' in csv:\n",
    "        data = pd.read_csv(csv, header = None)\n",
    "        time = data[0][1:].astype(float)\n",
    "        value_center = data[1][1:].astype(float)*center_area[count]\n",
    "        value = (value_all-value_center)/(all_area[count]-center_area[count])\n",
    "        ratio = value[-1:]/value[1]\n",
    "        RNase_results.append(ratio)\n",
    "        count += 1"
   ]
  },
  {
   "cell_type": "code",
   "execution_count": 4,
   "metadata": {},
   "outputs": [],
   "source": [
    "RNase_results = pd.DataFrame(RNase_results)\n",
    "RNase_results.columns = ['ratio']\n",
    "RNase_df = pd.concat([excel_data, RNase_results.reset_index(drop = True)], axis = 1)"
   ]
  },
  {
   "cell_type": "code",
   "execution_count": 5,
   "metadata": {},
   "outputs": [],
   "source": [
    "text_excel = glob.glob('/Users/masaharu/Desktop/python_program_from_190111/data/190115_2/*.xlsx')\n",
    "excel_data = pd.read_excel(text_excel[0])\n",
    "all_area = excel_data['area']\n",
    "center_area = excel_data['center_area']"
   ]
  },
  {
   "cell_type": "code",
   "execution_count": 6,
   "metadata": {},
   "outputs": [],
   "source": [
    "#control_300mwの結果\n",
    "text_csv = glob.glob('/Users/masaharu/Desktop/python_program_from_190111/data/190115_2/*.csv')\n",
    "text_300mw = [text for text in text_csv if '300mw' in text]\n",
    "text_300mw.sort()\n",
    "values = pd.DataFrame()\n",
    "value_alls = pd.DataFrame()\n",
    "value_centers = pd.DataFrame()\n",
    "control_results = []\n",
    "count = 0\n",
    "for csv in text_300mw:\n",
    "    if 'all' in csv:\n",
    "        data = pd.read_csv(csv, header = None)\n",
    "        time = data[0][1:].astype(float)\n",
    "        value_all = data[1][1:].astype(float)*all_area[count]\n",
    "        value_alls = pd.concat([value_alls, pd.DataFrame(value_all)], axis = 1)\n",
    "    elif 'center' in csv:\n",
    "        data = pd.read_csv(csv, header = None)\n",
    "        time = data[0][1:].astype(float)\n",
    "        value_center = data[1][1:].astype(float)*center_area[count]\n",
    "        value_centers = pd.concat([value_centers, pd.DataFrame(value_center)], axis = 1)\n",
    "        value = (value_all-value_center)/(all_area[count]-center_area[count])\n",
    "        values = pd.concat([values, pd.DataFrame(value)], axis = 1)\n",
    "        ratio = value[-1:]/value[1]\n",
    "        control_results.append(ratio)\n",
    "        count += 1"
   ]
  },
  {
   "cell_type": "code",
   "execution_count": 7,
   "metadata": {},
   "outputs": [],
   "source": [
    "control_results = pd.DataFrame(control_results)\n",
    "control_results.columns = ['ratio']\n",
    "control_df = pd.concat([excel_data, control_results.reset_index(drop = True)], axis = 1)"
   ]
  },
  {
   "cell_type": "code",
   "execution_count": 8,
   "metadata": {},
   "outputs": [
    {
     "data": {
      "image/png": "[encoded data removed]",
      "text/plain": [
       "<Figure size 576x576 with 1 Axes>"
      ]
     },
     "metadata": {
      "needs_background": "light"
     },
     "output_type": "display_data"
    }
   ],
   "source": [
    "scatter = Scatter()\n",
    "scatter.sct_plot_overwrite(control_df['mean'], 'FPT_int', control_df['ratio'], 'increase_ratio', RNase_df['mean'], RNase_df['ratio'], '100mw')"
   ]
  },
  {
   "cell_type": "code",
   "execution_count": null,
   "metadata": {},
   "outputs": [],
   "source": []
  }
 ],
 "metadata": {
  "kernelspec": {
   "display_name": "Python 3",
   "language": "python",
   "name": "python3"
  },
  "language_info": {
   "codemirror_mode": {
    "name": "ipython",
    "version": 3
   },
   "file_extension": ".py",
   "mimetype": "text/x-python",
   "name": "python",
   "nbconvert_exporter": "python",
   "pygments_lexer": "ipython3",
   "version": "3.6.5"
  }
 },
 "nbformat": 4,
 "nbformat_minor": 2
}
